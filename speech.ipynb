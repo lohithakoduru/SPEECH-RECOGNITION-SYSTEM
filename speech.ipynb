{
 "cells": [
  {
   "cell_type": "code",
   "execution_count": 2,
   "id": "af2ad285-b801-4a3f-a741-c4b94feb5f01",
   "metadata": {},
   "outputs": [
    {
     "name": "stdout",
     "output_type": "stream",
     "text": [
      "['.ipynb_checkpoints', 'example.wav.mp3', 'speech.ipynb', 'text.ipynb', 'voice.mp3', 'voice.wav']\n"
     ]
    }
   ],
   "source": [
    "import os\n",
    "print(os.listdir())\n"
   ]
  },
  {
   "cell_type": "code",
   "execution_count": 6,
   "id": "fddd83b3-2b03-4c6f-8a03-7dc4f400afb9",
   "metadata": {},
   "outputs": [
    {
     "name": "stdout",
     "output_type": "stream",
     "text": [
      "🔍 Transcribing...\n",
      "\n",
      "📝 Transcribed Text:\n",
      "\n",
      "many many hours later\n"
     ]
    }
   ],
   "source": [
    "import speech_recognition as sr\n",
    "\n",
    "recognizer = sr.Recognizer()\n",
    "\n",
    "# Use your new WAV file here\n",
    "audio_path = \"music.wav\"\n",
    "\n",
    "with sr.AudioFile(audio_path) as source:\n",
    "    audio_data = recognizer.record(source)\n",
    "    print(\"🔍 Transcribing...\")\n",
    "\n",
    "    try:\n",
    "        text = recognizer.recognize_google(audio_data)\n",
    "        print(\"\\n📝 Transcribed Text:\\n\")\n",
    "        print(text)\n",
    "    except sr.UnknownValueError:\n",
    "        print(\"❌ Could not understand the audio.\")\n",
    "    except sr.RequestError as e:\n",
    "        print(f\"❌ Request error: {e}\")\n"
   ]
  },
  {
   "cell_type": "code",
   "execution_count": null,
   "id": "2d0a6a43-2cf5-49df-8fb1-2afeecfd1b8a",
   "metadata": {},
   "outputs": [],
   "source": []
  }
 ],
 "metadata": {
  "kernelspec": {
   "display_name": "Python 3 (ipykernel)",
   "language": "python",
   "name": "python3"
  },
  "language_info": {
   "codemirror_mode": {
    "name": "ipython",
    "version": 3
   },
   "file_extension": ".py",
   "mimetype": "text/x-python",
   "name": "python",
   "nbconvert_exporter": "python",
   "pygments_lexer": "ipython3",
   "version": "3.12.4"
  }
 },
 "nbformat": 4,
 "nbformat_minor": 5
}
